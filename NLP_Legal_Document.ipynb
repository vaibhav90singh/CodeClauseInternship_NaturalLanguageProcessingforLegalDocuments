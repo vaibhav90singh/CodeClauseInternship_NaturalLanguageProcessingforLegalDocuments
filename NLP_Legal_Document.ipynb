{
 "cells": [
  {
   "cell_type": "code",
   "execution_count": 1,
   "id": "dca5085b-1faa-4238-8bc3-d3ba96a0f3cb",
   "metadata": {},
   "outputs": [],
   "source": [
    "import spacy\n",
    "from spacy.lang.en.stop_words import STOP_WORDS\n",
    "from collections import Counter\n",
    "import heapq\n",
    "\n",
    "# Load SpaCy English model\n",
    "nlp = spacy.load('en_core_web_sm')"
   ]
  },
  {
   "cell_type": "code",
   "execution_count": 2,
   "id": "1e6075f0-25e4-418b-bad0-5f37f8b15a4d",
   "metadata": {},
   "outputs": [],
   "source": [
    "# Sample legal document text (you would replace this with your actual document loading code)\n",
    "document_text = \"\"\"\n",
    "This Agreement (the \"Agreement\") is entered into as of [Date], by and between [Party A], with a principal place of business at [Address] (\"Party A\"), and [Party B], with a principal place of business at [Address] (\"Party B\").\n",
    "\n",
    "WHEREAS, Party A and Party B desire to enter into this Agreement to govern their business relationship;\n",
    "\n",
    "NOW, THEREFORE, in consideration of the mutual covenants and promises contained herein, the parties hereto agree as follows:\n",
    "\n",
    "1. Definitions.\n",
    "   (a) \"Confidential Information\" means any non-public information disclosed by one party to the other party, which is designated as confidential or which reasonably should be understood to be confidential.\n",
    "   (b) \"Term\" means the duration of this Agreement as specified in Section 8 below.\n",
    "\n",
    "2. Confidentiality Obligations.\n",
    "   (a) Party B agrees to keep confidential all Confidential Information disclosed by Party A.\n",
    "   (b) Confidential Information shall not include information that: (i) is or becomes publicly known through no breach of this Agreement by the receiving party; (ii) is rightfully received from a third party without breach of any obligation of confidentiality; (iii) is independently developed by the receiving party without reference to or use of the disclosing party's Confidential Information.\n",
    "\n",
    "3. Term and Termination.\n",
    "   (a) This Agreement shall commence on the Effective Date and continue in effect until terminated as provided herein.\n",
    "   (b) Either party may terminate this Agreement upon [X] days' written notice to the other party.\n",
    "\n",
    "4. Miscellaneous.\n",
    "   (a) This Agreement constitutes the entire agreement between the parties with respect to the subject matter hereof and supersedes all prior agreements and understandings, oral and written, between the parties.\n",
    "\n",
    "IN WITNESS WHEREOF, the parties hereto have executed this Agreement as of the date first above written.\n",
    "\"\"\"\n"
   ]
  },
  {
   "cell_type": "code",
   "execution_count": 3,
   "id": "6cb1d4a8-ad42-4353-9947-49448befd5a9",
   "metadata": {},
   "outputs": [],
   "source": [
    "# Function to preprocess and tokenize text\n",
    "def preprocess_text(text):\n",
    "    # Tokenize the text\n",
    "    doc = nlp(text.lower())\n",
    "    tokens = [token.text for token in doc if not token.is_stop and not token.is_punct]\n",
    "    return tokens"
   ]
  },
  {
   "cell_type": "code",
   "execution_count": 4,
   "id": "92245f3c-3795-4f4a-ad1b-b5a0d6fc6cc3",
   "metadata": {},
   "outputs": [],
   "source": [
    "# Function to perform extractive summarization\n",
    "def extractive_summarization(text, num_sentences=3):\n",
    "    # Tokenize and preprocess the text\n",
    "    tokens = preprocess_text(text)\n",
    "    \n",
    "    # Calculate word frequency\n",
    "    word_freq = Counter(tokens)\n",
    "    max_freq = max(word_freq.values())\n",
    "    for word in word_freq.keys():\n",
    "        word_freq[word] = (word_freq[word] / max_freq)\n",
    "    \n",
    "    # Calculate sentence scores based on word frequency\n",
    "    sentence_scores = {}\n",
    "    sentences = text.split('.')\n",
    "    for sentence in sentences:\n",
    "        for word in preprocess_text(sentence):\n",
    "            if word in word_freq.keys():\n",
    "                if len(sentence.split(' ')) < 30:  # Consider only sentences with fewer than 30 words\n",
    "                    if sentence not in sentence_scores.keys():\n",
    "                        sentence_scores[sentence] = word_freq[word]\n",
    "                    else:\n",
    "                        sentence_scores[sentence] += word_freq[word]\n",
    "    \n",
    "    # Get top sentences based on scores\n",
    "    summary_sentences = heapq.nlargest(num_sentences, sentence_scores, key=sentence_scores.get)\n",
    "    summary = ' '.join(summary_sentences)\n",
    "    return summary"
   ]
  },
  {
   "cell_type": "code",
   "execution_count": 5,
   "id": "83174799-3fad-49fb-82e0-6ed7cdae3ff5",
   "metadata": {},
   "outputs": [
    {
     "name": "stdout",
     "output_type": "stream",
     "text": [
      "Original Document:\n",
      " \n",
      "This Agreement (the \"Agreement\") is entered into as of [Date], by and between [Party A], with a principal place of business at [Address] (\"Party A\"), and [Party B], with a principal place of business at [Address] (\"Party B\").\n",
      "\n",
      "WHEREAS, Party A and Party B desire to enter into this Agreement to govern their business relationship;\n",
      "\n",
      "NOW, THEREFORE, in consideration of the mutual covenants and promises contained herein, the parties hereto agree as follows:\n",
      "\n",
      "1. Definitions.\n",
      "   (a) \"Confidential Information\" means any non-public information disclosed by one party to the other party, which is designated as confidential or which reasonably should be understood to be confidential.\n",
      "   (b) \"Term\" means the duration of this Agreement as specified in Section 8 below.\n",
      "\n",
      "2. Confidentiality Obligations.\n",
      "   (a) Party B agrees to keep confidential all Confidential Information disclosed by Party A.\n",
      "   (b) Confidential Information shall not include information that: (i) is or becomes publicly known through no breach of this Agreement by the receiving party; (ii) is rightfully received from a third party without breach of any obligation of confidentiality; (iii) is independently developed by the receiving party without reference to or use of the disclosing party's Confidential Information.\n",
      "\n",
      "3. Term and Termination.\n",
      "   (a) This Agreement shall commence on the Effective Date and continue in effect until terminated as provided herein.\n",
      "   (b) Either party may terminate this Agreement upon [X] days' written notice to the other party.\n",
      "\n",
      "4. Miscellaneous.\n",
      "   (a) This Agreement constitutes the entire agreement between the parties with respect to the subject matter hereof and supersedes all prior agreements and understandings, oral and written, between the parties.\n",
      "\n",
      "IN WITNESS WHEREOF, the parties hereto have executed this Agreement as of the date first above written.\n",
      "\n",
      "\n",
      "Summarized Document:\n",
      " \n",
      "   (a) Party B agrees to keep confidential all Confidential Information disclosed by Party A \n",
      "   (b) Either party may terminate this Agreement upon [X] days' written notice to the other party \n",
      "   (b) \"Term\" means the duration of this Agreement as specified in Section 8 below\n"
     ]
    }
   ],
   "source": [
    "# Example usage\n",
    "if __name__ == '__main__':\n",
    "    summarized_text = extractive_summarization(document_text)\n",
    "    print(\"Original Document:\\n\", document_text)\n",
    "    print(\"\\nSummarized Document:\\n\", summarized_text)"
   ]
  },
  {
   "cell_type": "code",
   "execution_count": null,
   "id": "5117785e-e9f8-45d4-9849-6bd7af49c357",
   "metadata": {},
   "outputs": [],
   "source": []
  }
 ],
 "metadata": {
  "kernelspec": {
   "display_name": "Python 3 (ipykernel)",
   "language": "python",
   "name": "python3"
  },
  "language_info": {
   "codemirror_mode": {
    "name": "ipython",
    "version": 3
   },
   "file_extension": ".py",
   "mimetype": "text/x-python",
   "name": "python",
   "nbconvert_exporter": "python",
   "pygments_lexer": "ipython3",
   "version": "3.12.3"
  }
 },
 "nbformat": 4,
 "nbformat_minor": 5
}
